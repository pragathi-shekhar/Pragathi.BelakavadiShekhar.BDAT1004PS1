{
 "cells": [
  {
   "cell_type": "markdown",
   "id": "0477ecd6",
   "metadata": {},
   "source": [
    "#                                            Problem Set 1"
   ]
  },
  {
   "cell_type": "markdown",
   "id": "1eb63202",
   "metadata": {},
   "source": [
    "# Question 1"
   ]
  },
  {
   "cell_type": "markdown",
   "id": "c73f91b1",
   "metadata": {},
   "source": [
    "|Question          | Datatype                                                                           |  \n",
    "| :---              |-----------------:                                                                 | \n",
    "| 5                | Integer                                                                            |          \n",
    "| 5.0              | Double                                                                              | \n",
    "| 5>1              | Boolean                                                                            |  \n",
    "| '5'              | Character                                                                          |  \n",
    "| 5 * 2            | Integer                                                                            |  \n",
    "| '5' * 2          | Integer                    |   \n",
    "| '5' + '2'        | Integer. ASCII equivalent value                                                                       |  \n",
    "| 5 / 2            | Integer                                                                              |  \n",
    "| 5 % 2            | Integer                                                                            |  \n",
    "|{5,2,1}           |  List                                                                              |\n",
    "|5==3              | Boolean                                                                            |\n",
    "| Pi (number)      | Double                                                                              |"
   ]
  },
  {
   "cell_type": "markdown",
   "id": "ade64aca",
   "metadata": {},
   "source": [
    "# Question 2\n",
    "\n",
    "## a. Code:\n",
    "\n",
    "string s = \"Supercalifragilisticexpialidocious\";  \n",
    "\n",
    "// Using Length method to find length of string   \n",
    "Console.WriteLine($\"Length of string {s} = \" +s.Length);\n",
    "\n",
    "\n",
    "Number of letters in 'Supercalifragilisticexpialidocious; is 34 \n",
    "\n"
   ]
  },
  {
   "cell_type": "markdown",
   "id": "377f331c",
   "metadata": {},
   "source": [
    "<center><img title=\"title\" alt=\"Alt text\" src=\"PS1_Q2a.png\"></center>"
   ]
  },
  {
   "cell_type": "markdown",
   "id": "3807128a",
   "metadata": {},
   "source": [
    "## b. Code:\n",
    "\n",
    "string s = \"Supercalifragilisticexpialidocious\";\n",
    "\n",
    "// Using Contains method to check if a given string is part of the original string   \n",
    "Console.WriteLine($\"If string {s} contains substring ice = \"+s.Contains(\"ice\"));\n",
    "\n",
    "Yes. 'Supercalifragilisticexpialidocious' contains the string 'ice'"
   ]
  },
  {
   "cell_type": "markdown",
   "id": "9e2419bd",
   "metadata": {},
   "source": [
    "<center><img title=\"a title\" alt=\"Alt text\" src=\"PS2_Q2b.png\"></center>"
   ]
  },
  {
   "cell_type": "markdown",
   "id": "a3f7ff1b",
   "metadata": {},
   "source": [
    "## c. Code :\n",
    "\n",
    "string string1 = \"Supercalifragilisticexpialidocious\";   \n",
    "string string2 = \"Honorificabilitudinitatibus\";    \n",
    "string string3 = \"Bababadalgharaghtakamminarronnkonn\";    \n",
    "string longestString = string1;\n",
    "\n",
    "//Using ternary operator to compare strings   \n",
    "longestString = string2.Length>longestString.Length?string2:longestString ;   \n",
    "longestString = longestString.Length>string3.Length?string3:longestString ;\n",
    "\n",
    "Console.WriteLine($\"Longest string among the three is {longestString}\");\n"
   ]
  },
  {
   "cell_type": "markdown",
   "id": "fd7c4675",
   "metadata": {},
   "source": [
    "<center><img title=\"a title\" alt=\"Alt text\" src=\"PS1_Q2c.png\"></center>"
   ]
  },
  {
   "cell_type": "markdown",
   "id": "872ea486",
   "metadata": {},
   "source": [
    "## d. Code:\n",
    "\n",
    "string[] sArray = { \"Berlioz\", \"Borodin\", \"Brian\", \"Bartok\", \"Bellini\", \"Buxtehude\", \"Bernstein\" };\n",
    "//Using Sort method to arrange the items in list in ascending order.    \n",
    "Array.Sort(sArray);    \n",
    "foreach (string str in sArray)\n",
    "{   \n",
    "    Console.WriteLine(str);   \n",
    "\n",
    "}   \n",
    "\n",
    "Solution : Using sort, 'Bartok' comes first and 'Buxtehude' comes last in the dictionary."
   ]
  },
  {
   "cell_type": "markdown",
   "id": "8255070a",
   "metadata": {},
   "source": [
    "<center><img title=\"a title\" alt=\"Alt text\" src=\"PS1_Q2d.png\"></center>"
   ]
  },
  {
   "cell_type": "markdown",
   "id": "dfa07405",
   "metadata": {},
   "source": [
    "# Question 3\n",
    "\n",
    "### Code: \n",
    "### Program.cs :\n",
    "\n",
    "Q3AreaOfTriangle q3area = new Q3AreaOfTriangle();   \n",
    "\n",
    "// Creating the object for class Q3AreaOfTriangleArea and calling method triangleArea   \n",
    "double area = q3area.triangleArea(2, 2, 2);    \n",
    "Console.WriteLine(\"AREA OF TRIANGLE is \" + area);  \n",
    "\n",
    "### Q3AreaOfTriangle.cs:\n",
    "\n",
    "using System;  \n",
    "using System.Collections.Generic;      \n",
    "using System.Linq;   \n",
    "using System.Text;   \n",
    "using System.Threading.Tasks;   \n",
    "\n",
    "namespace ProblemSet1.Models\n",
    "{     \n",
    "    internal class Q3AreaOfTriangle      \n",
    "    {    \n",
    "        public double triangleArea(int side1, int side2, int side3) {   \n",
    "            double area;    \n",
    "            double s = (side1+side2 +side3) / 2;    \n",
    "            area = Math.Sqrt(s * (s - side1) * (s - side2) * (s - side3));    \n",
    "            return area;    \n",
    "        }    \n",
    "    }    \n",
    "}\n"
   ]
  },
  {
   "cell_type": "markdown",
   "id": "d4ebad6c",
   "metadata": {},
   "source": [
    "<center><img title=\"a title\" alt=\"Alt text\" src=\"PS1_Q3.png\"></center>"
   ]
  },
  {
   "cell_type": "markdown",
   "id": "b47a618c",
   "metadata": {},
   "source": [
    "# Question 4\n",
    "\n",
    "### Code:\n",
    "\n",
    "### Program.cs\n",
    "\n",
    "Console.Write(\"Enter the number of elements to be stored in array : \");  \n",
    "string input = Console.ReadLine();  \n",
    "\n",
    "// Converting the entered string to actual integers   \n",
    "int numberOfElements = Convert.ToInt32(input);  \n",
    "Q4OddEvenSeparator oddEven = new Q4OddEvenSeparator();  \n",
    "oddEven.separateElements(numberOfElements);  \n",
    "\n",
    "### Q4OddEvenSeparator.cs\n",
    "\n",
    "using System;  \n",
    "using System.Collections.Generic;  \n",
    "using System.Linq;  \n",
    "using System.Text;\n",
    "using System.Threading.Tasks;  \n",
    "\n",
    "namespace ProblemSet1.Models  \n",
    "{  \n",
    "    internal class Q4OddEvenSeparator    \n",
    "    {  \n",
    "        public void separateElements(int numberOfElements)  \n",
    "        {  \n",
    "\n",
    "            Console.WriteLine($\"Enter {numberOfElements} elements in the array:\");  \n",
    "            // Creating arraylist to store the numbers   \n",
    "            List<int> array = new List<int>();    \n",
    "            List<int> evenArray = new List<int>();  \n",
    "            List<int> oddArray = new List<int>(); \n",
    "            // Enter the elements for the number entered on console\n",
    "            for (int i = 0; i < numberOfElements; i++)    \n",
    "            {  \n",
    "                Console.Write($\"element - {i} : \");  \n",
    "                String arrayElements = Console.ReadLine();  \n",
    "                int element = Convert.ToInt32(arrayElements);  \n",
    "                // Add elements to the list   \n",
    "                array.Add(element);  \n",
    "                if (element % 2 == 0)     // Check if the element is even   \n",
    "                {  \n",
    "                    evenArray.Add(element);    \n",
    "                }   \n",
    "                else  \n",
    "                {   \n",
    "                    oddArray.Add(element);  \n",
    "                }  \n",
    "            }  \n",
    "            // Displaying the even and odd array   \n",
    "            Console.WriteLine(\"Even elements are :\");  \n",
    "            foreach (int i in evenArray)  \n",
    "            {   \n",
    "                Console.Write(i + \"\\t\");  \n",
    "            }  \n",
    "            Console.WriteLine(\"\\nOdd elements are :\");  \n",
    "            foreach (int i in oddArray)  \n",
    "            {  \n",
    "                Console.Write(i + \"\\t\");  \n",
    "            }  \n",
    "        }  \n",
    "\n",
    "    }  \n",
    "}\n",
    "\n"
   ]
  },
  {
   "cell_type": "markdown",
   "id": "53d252c2",
   "metadata": {},
   "source": [
    "<center><img title=\"a title\" alt=\"Alt text\" src=\"PS1_Q4.png\"></center>"
   ]
  },
  {
   "cell_type": "markdown",
   "id": "73f54218",
   "metadata": {},
   "source": [
    "# Question 5\n",
    " "
   ]
  },
  {
   "cell_type": "markdown",
   "id": "9c45fbbc",
   "metadata": {},
   "source": [
    "### a. Program.cs:\n",
    "\n",
    "Q5InsideRectangle distance = new Q5InsideRectangle();  \n",
    "Boolean result1 = distance.findDistance(1, 1, 0, 0, 2, 3);  \n",
    "Boolean result2 = distance.findDistance(-1, -1, 0, 0, 2, 3);  \n",
    "Console.WriteLine(\">>> inside(1,1,0,0,2,3) \\n\"+result1);  \n",
    "Console.WriteLine(\">>> inside(-1,-1,0,0,2,3) \\n\"+result2);  \n",
    "\n",
    "\n",
    "### Q5InsideRectangle.cs\n",
    "\n",
    "using System;  \n",
    "using System.Collections.Generic;  \n",
    "using System.Linq;    \n",
    "using System.Text;  \n",
    "using System.Threading.Tasks;  \n",
    "\n",
    "namespace ProblemSet1.Models  \n",
    "{     \n",
    "    internal class Q5InsideRectangle   \n",
    "    {  \n",
    "\n",
    "        public Boolean findDistance(double x, double y, double x1, double y1, double x2, double y2)  \n",
    "        {  \n",
    "            Boolean result = false;  \n",
    "            // Using the graph system we can say that if a point lies between the given 2 points on the axis, it will be within that rectangle\n",
    "            if (x > x1 && x < x2 && y > y1 && y < y2)  \n",
    "            {  \n",
    "                result = true;  \n",
    "            }  \n",
    "            else  \n",
    "            {  \n",
    "                result = false;  \n",
    "            }  \n",
    "            return result;  \n",
    "        }  \n",
    "    }  \n",
    "}\n"
   ]
  },
  {
   "cell_type": "markdown",
   "id": "e3fa889c",
   "metadata": {},
   "source": [
    "<center><img title=\"a title\" alt=\"Alt text\" src=\"PS1_Q5.png\"></center>"
   ]
  },
  {
   "cell_type": "markdown",
   "id": "e4e2028b",
   "metadata": {},
   "source": [
    "### 5b. \n",
    "<center><img title=\"a title\" alt=\"Alt text\" src=\"PS1_Q5b.png\"></center>"
   ]
  },
  {
   "cell_type": "markdown",
   "id": "8ab5d0e3",
   "metadata": {},
   "source": [
    "# Question 6\n"
   ]
  },
  {
   "cell_type": "code",
   "execution_count": 18,
   "id": "c454fdc5",
   "metadata": {
    "scrolled": true
   },
   "outputs": [
    {
     "name": "stdout",
     "output_type": "stream",
     "text": [
      "Enter the word: happy\n",
      ">>> pig('happy')\n",
      " appyhay\n",
      "Enter the word: Enter\n",
      ">>> pig('Enter')\n",
      " enterway\n"
     ]
    }
   ],
   "source": [
    "name1 = input(\"Enter the word: \")\n",
    "result1 = pig(name1)\n",
    "print(\">>> pig('happy')\\n\",result1)\n",
    "name2 = input(\"Enter the word: \")\n",
    "result2 = pig(name2)\n",
    "print(\">>> pig('Enter')\\n\",result2)\n",
    "\n",
    "# Method to convert entered string to pig-latin form\n",
    "def pig(name):\n",
    "    #vowels stored in list to check which letter the string starts with\n",
    "    lstVowels = ['a','e','i','o','u']\n",
    "    #converting string to lowercase\n",
    "    nameLower = name.lower()\n",
    "    #initialize empty list to store string and manipulate it\n",
    "    lst=[]\n",
    "    #string to return the pig-latin form\n",
    "    str=\"\"\n",
    "    for c in nameLower:\n",
    "        #appending each character in string to list\n",
    "        lst.append(c)\n",
    "    if(lst[0] in lstVowels):\n",
    "        lst.append('way')\n",
    "    else:\n",
    "        lst.append(lst[0])\n",
    "        lst.remove(lst[0])\n",
    "        lst.append('ay')\n",
    "    #converting list back to string and returning it\n",
    "    for s in lst:\n",
    "        str += s\n",
    "    return str\n"
   ]
  },
  {
   "cell_type": "markdown",
   "id": "12a52027",
   "metadata": {},
   "source": [
    "# Question 7\n"
   ]
  },
  {
   "cell_type": "code",
   "execution_count": 8,
   "id": "32e31043",
   "metadata": {
    "scrolled": true
   },
   "outputs": [
    {
     "name": "stdout",
     "output_type": "stream",
     "text": [
      "There are 15 patients of blood type A\n",
      "There is one patient of blood type B\n",
      "There are 13 patients of blood type AB\n",
      "There are 15 patients of blood type O\n",
      "There are no patients of blood type OO\n"
     ]
    }
   ],
   "source": [
    "# Open, read and close file\n",
    "fileRead = open('bloodtype1.txt')\n",
    "bloodTypeContent = fileRead.read()\n",
    "fileRead.close()\n",
    "\n",
    "#split the content of file on whitespaces and store in the list\n",
    "typeList = bloodTypeContent.split()\n",
    "\n",
    "#dictionary to store the blood type as key and intial value to zero \n",
    "typeCounters={'A':0, 'B':0,'AB':0,'O':0,'OO':0}\n",
    "\n",
    "#iterating the list and incrementing the values of corresponding key\n",
    "for type in typeList:\n",
    "    if type in typeCounters:\n",
    "        typeCounters[type] += 1\n",
    "for key in counters.keys():\n",
    "    if typeCounters[key] == 0:\n",
    "        print(\"There are no patients of blood type\",key)\n",
    "    elif typeCounters[key] == 1:\n",
    "        print(\"There is one patient of blood type\",key)\n",
    "    else:\n",
    "        print(\"There are\",typeCounters[key],\"patients of blood type\",key)"
   ]
  },
  {
   "cell_type": "markdown",
   "id": "956e3333",
   "metadata": {},
   "source": [
    "# Question 8\n"
   ]
  },
  {
   "cell_type": "code",
   "execution_count": 14,
   "id": "ff596d53",
   "metadata": {},
   "outputs": [
    {
     "name": "stdout",
     "output_type": "stream",
     "text": [
      ">>> curconv('EUR', 100)\n",
      " 122.96544\n",
      ">>> curconv('JPY', 100)\n",
      " 1.241401\n"
     ]
    }
   ],
   "source": [
    "result = curconv('EUR',100)\n",
    "print(\">>> curconv('EUR', 100)\\n\",result)\n",
    "result1 = curconv('JPY',100)\n",
    "print(\">>> curconv('JPY', 100)\\n\",result1)\n",
    "\n",
    "# method to convert currencies  \n",
    "def curconv(country, amount):\n",
    "    #Open, read and close the file  \n",
    "    fileRead = open('currencies.txt')\n",
    "    currencyContent = fileRead.readlines()    # Read and store by line  \n",
    "    fileRead.close()\n",
    "    # initialise a float value to store the final converted list   \n",
    "    result = 1\n",
    "    # iterating over the content of file  \n",
    "    for entry in currencyContent:\n",
    "        # if the country code sent to the method input is present in content, split the content by tab('\\t') and get the second column value   \n",
    "        if(country in entry):\n",
    "            currencyValue = entry.split('\\t')\n",
    "            floatVal = float(currencyValue[1])\n",
    "            result =  floatVal* amount\n",
    "    return result\n",
    "        \n",
    "    \n",
    "    "
   ]
  },
  {
   "cell_type": "markdown",
   "id": "0e4932c1",
   "metadata": {},
   "source": [
    "# Question 9\n"
   ]
  },
  {
   "cell_type": "markdown",
   "id": "d93c47db",
   "metadata": {},
   "source": [
    "1. Trying to add incompatible variables, as in adding 6 + ‘a’ will give invalid character '‘' (U+2018) as error"
   ]
  },
  {
   "cell_type": "code",
   "execution_count": 1,
   "id": "1b261b00",
   "metadata": {},
   "outputs": [
    {
     "ename": "SyntaxError",
     "evalue": "invalid character '‘' (U+2018) (Temp/ipykernel_20340/51415921.py, line 1)",
     "output_type": "error",
     "traceback": [
      "\u001b[1;36m  File \u001b[1;32m\"C:\\Users\\PRAGAT~2\\AppData\\Local\\Temp/ipykernel_20340/51415921.py\"\u001b[1;36m, line \u001b[1;32m1\u001b[0m\n\u001b[1;33m    6 + ‘a’\u001b[0m\n\u001b[1;37m        ^\u001b[0m\n\u001b[1;31mSyntaxError\u001b[0m\u001b[1;31m:\u001b[0m invalid character '‘' (U+2018)\n"
     ]
    }
   ],
   "source": [
    "6 + ‘a’"
   ]
  },
  {
   "cell_type": "markdown",
   "id": "813c6a4b",
   "metadata": {},
   "source": [
    "2. Referring to the 12th item of a list that has only 10 items will give list index out of range"
   ]
  },
  {
   "cell_type": "code",
   "execution_count": 2,
   "id": "43720f69",
   "metadata": {},
   "outputs": [
    {
     "ename": "IndexError",
     "evalue": "list index out of range",
     "output_type": "error",
     "traceback": [
      "\u001b[1;31m---------------------------------------------------------------------------\u001b[0m",
      "\u001b[1;31mIndexError\u001b[0m                                Traceback (most recent call last)",
      "\u001b[1;32mC:\\Users\\PRAGAT~2\\AppData\\Local\\Temp/ipykernel_20340/4011740759.py\u001b[0m in \u001b[0;36m<module>\u001b[1;34m\u001b[0m\n\u001b[0;32m      1\u001b[0m \u001b[0mlst\u001b[0m \u001b[1;33m=\u001b[0m \u001b[1;33m[\u001b[0m\u001b[1;36m1\u001b[0m\u001b[1;33m,\u001b[0m\u001b[1;36m2\u001b[0m\u001b[1;33m,\u001b[0m\u001b[1;36m3\u001b[0m\u001b[1;33m,\u001b[0m\u001b[1;36m4\u001b[0m\u001b[1;33m,\u001b[0m\u001b[1;36m5\u001b[0m\u001b[1;33m,\u001b[0m\u001b[1;36m6\u001b[0m\u001b[1;33m,\u001b[0m\u001b[1;36m7\u001b[0m\u001b[1;33m,\u001b[0m\u001b[1;36m8\u001b[0m\u001b[1;33m,\u001b[0m\u001b[1;36m9\u001b[0m\u001b[1;33m,\u001b[0m\u001b[1;36m10\u001b[0m\u001b[1;33m]\u001b[0m\u001b[1;33m\u001b[0m\u001b[1;33m\u001b[0m\u001b[0m\n\u001b[1;32m----> 2\u001b[1;33m \u001b[0mprint\u001b[0m\u001b[1;33m(\u001b[0m\u001b[0mlst\u001b[0m\u001b[1;33m[\u001b[0m\u001b[1;36m12\u001b[0m\u001b[1;33m]\u001b[0m\u001b[1;33m)\u001b[0m\u001b[1;33m\u001b[0m\u001b[1;33m\u001b[0m\u001b[0m\n\u001b[0m",
      "\u001b[1;31mIndexError\u001b[0m: list index out of range"
     ]
    }
   ],
   "source": [
    "lst = [1,2,3,4,5,6,7,8,9,10]\n",
    "print(lst[12])"
   ]
  },
  {
   "cell_type": "markdown",
   "id": "c93a6fc4",
   "metadata": {},
   "source": [
    "3. Using a value that is out of range for a function’s input, such as calling math.sqrt(-1.0) will give math domain error"
   ]
  },
  {
   "cell_type": "code",
   "execution_count": 3,
   "id": "5317b553",
   "metadata": {},
   "outputs": [
    {
     "ename": "ValueError",
     "evalue": "math domain error",
     "output_type": "error",
     "traceback": [
      "\u001b[1;31m---------------------------------------------------------------------------\u001b[0m",
      "\u001b[1;31mValueError\u001b[0m                                Traceback (most recent call last)",
      "\u001b[1;32mC:\\Users\\PRAGAT~2\\AppData\\Local\\Temp/ipykernel_20340/1114391229.py\u001b[0m in \u001b[0;36m<module>\u001b[1;34m\u001b[0m\n\u001b[0;32m      1\u001b[0m \u001b[1;32mimport\u001b[0m \u001b[0mmath\u001b[0m\u001b[1;33m\u001b[0m\u001b[1;33m\u001b[0m\u001b[0m\n\u001b[1;32m----> 2\u001b[1;33m \u001b[0mmath\u001b[0m\u001b[1;33m.\u001b[0m\u001b[0msqrt\u001b[0m\u001b[1;33m(\u001b[0m\u001b[1;33m-\u001b[0m\u001b[1;36m1.0\u001b[0m\u001b[1;33m)\u001b[0m\u001b[1;33m\u001b[0m\u001b[1;33m\u001b[0m\u001b[0m\n\u001b[0m",
      "\u001b[1;31mValueError\u001b[0m: math domain error"
     ]
    }
   ],
   "source": [
    "import math\n",
    "math.sqrt(-1.0)"
   ]
  },
  {
   "cell_type": "markdown",
   "id": "b09e572b",
   "metadata": {},
   "source": [
    "4. Using an undeclared variable, such as print(x) when x has not been defined will give name 'x' is not defined"
   ]
  },
  {
   "cell_type": "code",
   "execution_count": 4,
   "id": "00ebd33f",
   "metadata": {},
   "outputs": [
    {
     "ename": "NameError",
     "evalue": "name 'x' is not defined",
     "output_type": "error",
     "traceback": [
      "\u001b[1;31m---------------------------------------------------------------------------\u001b[0m",
      "\u001b[1;31mNameError\u001b[0m                                 Traceback (most recent call last)",
      "\u001b[1;32mC:\\Users\\PRAGAT~2\\AppData\\Local\\Temp/ipykernel_20340/1353120783.py\u001b[0m in \u001b[0;36m<module>\u001b[1;34m\u001b[0m\n\u001b[1;32m----> 1\u001b[1;33m \u001b[0mprint\u001b[0m\u001b[1;33m(\u001b[0m\u001b[0mx\u001b[0m\u001b[1;33m)\u001b[0m\u001b[1;33m\u001b[0m\u001b[1;33m\u001b[0m\u001b[0m\n\u001b[0m",
      "\u001b[1;31mNameError\u001b[0m: name 'x' is not defined"
     ]
    }
   ],
   "source": [
    "print(x)"
   ]
  },
  {
   "cell_type": "markdown",
   "id": "9785f752",
   "metadata": {},
   "source": [
    "5. Trying to open a file that does not exist, such as mistyping the file name or looking in the wrong directory will give no such file or directory : curren.txt\n"
   ]
  },
  {
   "cell_type": "code",
   "execution_count": 5,
   "id": "5668aaeb",
   "metadata": {},
   "outputs": [
    {
     "ename": "FileNotFoundError",
     "evalue": "[Errno 2] No such file or directory: 'curren.txt'",
     "output_type": "error",
     "traceback": [
      "\u001b[1;31m---------------------------------------------------------------------------\u001b[0m",
      "\u001b[1;31mFileNotFoundError\u001b[0m                         Traceback (most recent call last)",
      "\u001b[1;32mC:\\Users\\PRAGAT~2\\AppData\\Local\\Temp/ipykernel_20340/1651475387.py\u001b[0m in \u001b[0;36m<module>\u001b[1;34m\u001b[0m\n\u001b[1;32m----> 1\u001b[1;33m \u001b[0mfileRead\u001b[0m \u001b[1;33m=\u001b[0m \u001b[0mopen\u001b[0m\u001b[1;33m(\u001b[0m\u001b[1;34m'curren.txt'\u001b[0m\u001b[1;33m)\u001b[0m\u001b[1;33m\u001b[0m\u001b[1;33m\u001b[0m\u001b[0m\n\u001b[0m",
      "\u001b[1;31mFileNotFoundError\u001b[0m: [Errno 2] No such file or directory: 'curren.txt'"
     ]
    }
   ],
   "source": [
    "fileRead = open('curren.txt')"
   ]
  },
  {
   "cell_type": "markdown",
   "id": "69eaaa49",
   "metadata": {},
   "source": [
    "# Question 10"
   ]
  },
  {
   "cell_type": "code",
   "execution_count": 25,
   "id": "fbb12f12",
   "metadata": {},
   "outputs": [
    {
     "name": "stdout",
     "output_type": "stream",
     "text": [
      ">>> frequencies('The quick red fox got bored and went home.' \n",
      " [1, 1, 1, 3, 5, 1, 1, 2, 1, 0, 1, 0, 1, 2, 4, 0, 1, 2, 0, 2, 1, 0, 1, 1, 0, 0]\n",
      "\n",
      ">>> frequencies('apple') \n",
      " [1, 0, 0, 0, 1, 0, 0, 0, 0, 0, 0, 1, 0, 0, 0, 2, 0, 0, 0, 0, 0, 0, 0, 0, 0, 0]\n"
     ]
    }
   ],
   "source": [
    "table1 = frequencies('The quick red fox got bored and went home.')\n",
    "print(\">>> frequencies('The quick red fox got bored and went home.' \\n\",table1)\n",
    "table2 = frequencies('apple')\n",
    "print(\"\\n>>> frequencies('apple') \\n\",table2)\n",
    "\n",
    "def frequencies(sentence):\n",
    "    # initialise the frequency table \n",
    "    frequencyTable = [0,0,0,0,0,0,0,0,0,0,0,0,0,0,0,0,0,0,0,0,0,0,0,0,0,0]\n",
    "    for char in sentence:\n",
    "        # We will get the index of the alphabet and we can increment accordingly   \n",
    "        intVal = ord(char) - ord('a')\n",
    "        # check if the val is >=0 and increment the values, as blank space will give a negative value and that might lead to error   \n",
    "        if(intVal>=0):\n",
    "            frequencyTable[intVal]+=1\n",
    "    return frequencyTable\n",
    "        "
   ]
  }
 ],
 "metadata": {
  "kernelspec": {
   "display_name": "Python 3 (ipykernel)",
   "language": "python",
   "name": "python3"
  },
  "language_info": {
   "codemirror_mode": {
    "name": "ipython",
    "version": 3
   },
   "file_extension": ".py",
   "mimetype": "text/x-python",
   "name": "python",
   "nbconvert_exporter": "python",
   "pygments_lexer": "ipython3",
   "version": "3.9.7"
  }
 },
 "nbformat": 4,
 "nbformat_minor": 5
}
